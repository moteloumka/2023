{
 "cells": [
  {
   "cell_type": "markdown",
   "id": "c1d0380f",
   "metadata": {},
   "source": [
    "# Homework 2 (HW2)\n",
    "By the end of this homework, we expect you to be able to:\n",
    "\n",
    "- Preprocess data and make it amenable to statistical analysis and machine learning models;\n",
    "- Train and test out-of-the-box machine learning models in Python;\n",
    "- Carry out simple multivariate regression analyses;\n",
    "- Use techniques to control for covariates;\n",
    "- Conduct an observational study and reason about its results.\n",
    "\n",
    "---\n",
    "\n",
    "- Homework release: Fri 17 Nov 2023\t\n",
    "\n",
    "- **Homework Due**: Fri 01 Dec 2023, 23:59\t\n",
    "\n",
    "- Grades released: Mon 11 Dec 2023\t\n",
    "\n",
    "\n",
    "---\n",
    "\n",
    "## Some rules\n",
    "1. You are allowed to use any built-in Python library that comes with Anaconda. If you want to use an external library, you may do so, but must justify your choice.\n",
    "\n",
    "2. Make sure you use the `data` folder provided in the repository in read-only mode. (Or alternatively, be sure you don’t change any of the files.)\n",
    "\n",
    "3. Be sure to provide a concise textual description of your thought process, the assumptions you made, the solution you implemented, and explanations for your answers. A notebook that only has code cells will not suffice.\n",
    "\n",
    "4. For questions containing the **/Discuss:/** prefix, answer not with code, but with a textual explanation **(in markdown)**.\n",
    "\n",
    "5. Back up any hypotheses and claims with data, since this is an important aspect of the course.\n",
    "\n",
    "6. Please write all your comments in **English**, and use meaningful variable names in your code. Your repo should have a single notebook (plus the required data files) in the master/main branch. **If there are multiple notebooks present, we will not grade anything.**\n",
    "\n",
    "7. We will **not run your notebook for you!** Rather, we will grade it as is, which means that only the results contained in your evaluated code cells will be considered, and we will not see the results in unevaluated code cells. Thus, be sure to hand in a **fully-run and evaluated notebook**. In order to check whether everything looks as intended, you can check the rendered notebook on the GitHub website once you have pushed your solution there.\n",
    "\n",
    "8. In continuation to the previous point, interactive plots, such as those generated using the `plotly` package, should be strictly avoided!\n",
    "\n",
    "9. Make sure to print results and/or dataframes that confirm you have properly addressed the task.\n",
    "\n",
    "\n",
    "---"
   ]
  },
  {
   "cell_type": "code",
   "execution_count": 1,
   "id": "68937ccd",
   "metadata": {
    "ExecuteTime": {
     "end_time": "2023-11-17T17:54:27.233757Z",
     "start_time": "2023-11-17T17:54:26.757026Z"
    }
   },
   "outputs": [],
   "source": [
    "import pandas as pd\n",
    "import numpy as np\n",
    "\n",
    "# plotting\n",
    "import seaborn as sns\n",
    "import matplotlib.pyplot as plt\n",
    "\n",
    "# regression / matching\n",
    "import statsmodels.formula.api as smf\n",
    "import networkx as nx\n",
    "\n",
    "# machine lerning\n",
    "from sklearn.model_selection import cross_validate\n",
    "from sklearn.ensemble import GradientBoostingClassifier\n",
    "from sklearn.preprocessing import OneHotEncoder\n",
    "\n",
    "pd.set_option('display.max_columns', None)\n"
   ]
  },
  {
   "cell_type": "markdown",
   "id": "fb04befc",
   "metadata": {},
   "source": [
    "## Context\n",
    "\n",
    "After two years, the EPFL Baseball Club is broke. The new Dean transferred all funds to EPFL's new poster child: its super-competitive Pétanque club. After struggling so much to learn about baseball, you have unfortunately been laid off...\n",
    "\n",
    "*(...) 1 month after, you manage to get another job (!) (...)*\n",
    "\n",
    "Congratulations! You have just been hired as a data scientist at the Association for Computational Linguistics (ACL), a professional organization for people working on natural language processing. The ACL organizes several of the top conferences and workshops in the field of computational linguistics and natural language processing.\n",
    "Your boss, Dr. Tiancheng, knows of your expertise in observational studies and asks you to investigate a question that’s been bothering everyone who has ever submitted a paper to a conference: should I spend time on writing rebuttals?\n",
    "\n",
    "\n",
    "\n",
    "---\n",
    "\n",
    "## Rebuttals, conferences, and getting your papers accepted\n",
    "\n",
    "Rebuttals in ACL (Association for Computational Linguistics) conferences and in many other academic conferences are an important part of the peer-review process. They allow authors of submitted papers to respond to the reviews and comments provided by the reviewers before a final decision is made regarding the acceptance of the paper. Here's how the rebuttal process typically works in ACL conferences:\n",
    "\n",
    "- Paper Submission: Authors submit their research papers to the ACL conference for review. These papers present novel research findings in computational linguistics, natural language processing, and related areas.\n",
    "- Peer Review: The papers undergo a peer-review process after the initial submission. The program committee or reviewers are experts in the field who evaluate the papers based on their quality, significance, novelty, methodology, and other relevant criteria. They provide comments and scores for each paper.\n",
    "- Rebuttal Period: After receiving the reviews, authors are given a specific period (usually around a week) to write a rebuttal. The rebuttal is a formal response to the reviewers' comments. It allows authors to clarify misunderstandings, address concerns, and provide additional information to support their paper's quality. \n",
    "- Final Review: After receiving the rebuttals, the reviewers may reconsider their initial assessments in light of the authors' responses. Reviewers may choose to maintain or adjust their reviews and scores based on the quality and effectiveness of the author's rebuttal.\n",
    "- Final Decision: The program committee or conference organizers consider the initial reviews/scores, rebuttals, and revised reviews/scores to make a final decision on the acceptance of the papers. The decision can be acceptance, rejection, or conditional acceptance with a request for revisions.\n",
    "\n",
    "\n",
    "---\n",
    "\n",
    "## Data\n",
    "\n",
    "- `tmp_id`: Unique identifier for each paper in the format \"P{number}\".\n",
    "- `status`: Accept or Reject.\n",
    "- `submission_type`: Short vs. Long (papers can have different lengths). We do not use this column in this homework. \n",
    "- `track`: Track to which the paper was submitted, broadly speaking, the \"topic\" of the paper.\n",
    "- `scores_before`: Scores received before rebuttal. This is a nested JSON with many fields, but we will use only the \"overall\" score for the homework. \n",
    "- `scores_after`: Scores received after rebuttal. This is a nested JSON with many fields, but we will use only the \"overall\" score for the homework.\n",
    "- `had_rebuttal`: True or False.\n",
    "\n",
    "\n",
    "Note that: \n",
    " - reviews are assigned numbers, e.g., \"2\";\n",
    " - papers can have different numbers of reviews;\n",
    " - review numbers are arbitrary, e.g., `P1` in the dataframe has two reviews numbered \"2\" and \"3\" (but no review \"1\").\n"
   ]
  },
  {
   "cell_type": "markdown",
   "metadata": {},
   "source": []
  },
  {
   "cell_type": "code",
   "execution_count": 2,
   "metadata": {},
   "outputs": [
    {
     "name": "stdout",
     "output_type": "stream",
     "text": [
      "(1538, 6)\n"
     ]
    }
   ],
   "source": [
    "# Read the .json file and create a dataframe\n",
    "df = pd.read_json('./data/acl18_v1_numerical_final.json')\n",
    "\n",
    "#drop column submission_type\n",
    "df = df.drop(columns=['submission_type'])\n",
    "\n",
    "df['scores_before'] = df['scores_before'].apply(lambda x : {key: value['scores']['overall_score'] for key, value in x.items()})\n",
    "df['scores_after'] = df['scores_after'].apply(lambda x : {key: value['scores']['overall_score'] for key, value in x.items()})\n",
    "print(df.shape)"
   ]
  },
  {
   "cell_type": "markdown",
   "id": "28074a9c",
   "metadata": {},
   "source": [
    "## Task 1 (10 pts): Get to Know Your Data\n",
    "\n",
    "As a good data scientist, you first load the data and perform some small sanity checks on it.\n",
    "\n",
    "- You are expected to continuously alter your dataframe as you complete the tasks. E.g., if you are asked to filter the data in a specific task, continue using the filtered dataset in the subsequent tasks.\n",
    "- When we tell you to \"print the dataframe,\" make sure you print it in a way that shows the total number of rows and columns in it (`display(df)` should suffice)."
   ]
  },
  {
   "cell_type": "markdown",
   "id": "9d6ab063",
   "metadata": {},
   "source": [
    "**1.1** Load the dataset containing ACL reviews into memory using pandas. \n",
    "- For each paper, create columns `overall_score_before_avg` and `overall_score_after_avg` containing the average (overall) scores before and after rebuttal.\n",
    "- For each paper, create columns `overall_score_before_std` and `overall_score_after_std` containing the standard deviation of the overall scores before and after the rebuttal.\n",
    "- Print the four newly created columns for paper `P17`.\n",
    "- Print the resulting dataframe."
   ]
  },
  {
   "cell_type": "code",
   "execution_count": 3,
   "metadata": {},
   "outputs": [],
   "source": [
    "df['overall_score_before_avg'] = df['scores_before'].apply(lambda x: np.mean(list(x.values())))\n",
    "df['overall_score_before_std'] = df['scores_before'].apply(lambda x: np.std(list(x.values())))\n",
    "df['overall_score_after_avg'] = df['scores_after'].apply(lambda x: np.mean(list(x.values())))\n",
    "df['overall_score_after_std'] = df['scores_after'].apply(lambda x: np.std(list(x.values())))\n"
   ]
  },
  {
   "cell_type": "markdown",
   "id": "0075ebff",
   "metadata": {},
   "source": [
    "**1.2** Create a single plot with 14 inches of width and 4 inches of height. The plot should contain two panels: \n",
    "- **Panel A**: The distribution of `overall_score_before_avg` for papers that were accepted and papers that were rejected.\n",
    "- **Panel B**: The distribution of `overall_score_before_avg` for papers that had rebuttals vs. papers that did not."
   ]
  },
  {
   "cell_type": "code",
   "execution_count": 4,
   "metadata": {},
   "outputs": [
    {
     "data": {
      "image/png": "[encoded data removed]",
      "text/plain": [
       "<Figure size 1008x288 with 2 Axes>"
      ]
     },
     "metadata": {
      "needs_background": "light"
     },
     "output_type": "display_data"
    }
   ],
   "source": [
    "plt.figure(figsize=(14, 4))\n",
    "\n",
    "# Panel A: Distribution of overall_score_before_avg for accepted and rejected papers\n",
    "plt.subplot(1, 2, 1)\n",
    "accepted_data = df[df['status'] == 'Accept']['overall_score_before_avg']\n",
    "rejected_data = df[df['status'] == 'Reject']['overall_score_before_avg']\n",
    "sns.histplot(data=accepted_data, kde=True, label='Accepted', color='blue', alpha=0.5)\n",
    "sns.histplot(data=rejected_data, kde=True, label='Rejected', color='orange', alpha=0.5)\n",
    "plt.title('Panel A: Distribution of overall_score_before_avg\\nfor Accepted and Rejected Papers')\n",
    "plt.xlabel('Overall Score Before Average')\n",
    "plt.ylabel('Count')\n",
    "plt.legend()\n",
    "\n",
    "# Panel B: Distribution of overall_score_before_avg for papers with and without rebuttals\n",
    "plt.subplot(1, 2, 2)\n",
    "with_rebuttals_data = df[df['had_rebuttal'] == 1]['overall_score_before_avg']\n",
    "without_rebuttals_data = df[df['had_rebuttal'] == 0]['overall_score_before_avg']\n",
    "sns.histplot(data=with_rebuttals_data, kde=True, label='With Rebuttals', color='green', alpha=0.5)\n",
    "sns.histplot(data=without_rebuttals_data, kde=True, label='Without Rebuttals', color='red', alpha=0.5)\n",
    "plt.title('Panel B: Distribution of overall_score_before_avg\\nfor Papers with and without Rebuttals')\n",
    "plt.xlabel('Overall Score Before Average')\n",
    "plt.ylabel('Count')\n",
    "plt.legend()\n",
    "# Adjust layout\n",
    "plt.tight_layout()\n",
    "\n",
    "# Show the plot\n",
    "plt.show()"
   ]
  },
  {
   "cell_type": "markdown",
   "id": "bea160c7",
   "metadata": {},
   "source": [
    "**1.3** **/Discuss/:** If you know a paper had a rebuttal, is it more or less likely that it was accepted? Does this mean that rebuttals help papers get accepted? Explain why or why not, providing a concrete example."
   ]
  },
  {
   "cell_type": "markdown",
   "metadata": {},
   "source": [
    "- **E(overall score before avarage|with rebuttals) > E(overall score before avarage|without rebuttals)**\n",
    "\n",
    "- This is the information we get from pannel B. Pannel A on the other hand, gives us the notion of **higer avg before rebutal => higher chances to get accepted**. Thus, having the inforrmation that a paper had a rebutal could indicate that it is more likeley to be rated high and thus more likeley to be accepted.\n",
    "\n",
    "- This doesn't directly prove that rebuttles help papers get accepted. As we can see from Panel B, the papers that tend to have rebuttles are those that are rated well enough to start with. Those that don't gete poor scores and most likeley prefer rewriting the paper and trying their luck next time. Thus, the presence of a rebuttle is a way, an indicator of the confidence of a papers autor in their own work."
   ]
  },
  {
   "cell_type": "markdown",
   "id": "87836f37",
   "metadata": {},
   "source": [
    "**1.4** Print the percentage of rebuttals per track in the conference (defined by the `track` column). \n",
    "\n",
    "**/Discuss:/** Using \"the logic\" of hypothesis testing (see slide 29 of Lecture 4), how would you devise a statistical test to refute the following null hypothesis: all tracks have the same fraction of papers with rebuttals. Your statistical test should consider all categories at once, rather than comparing the fraction of rebuttals between pairs of categories."
   ]
  },
  {
   "cell_type": "code",
   "execution_count": 5,
   "metadata": {},
   "outputs": [
    {
     "data": {
      "text/plain": [
       "Dialogue and Interactive Systems                                0.775281\n",
       "Discourse and Pragmatics                                        0.804348\n",
       "Document Analysis                                               0.730000\n",
       "Generation                                                      0.779661\n",
       "Information Extraction and Text Mining                          0.768362\n",
       "Linguistic Theories Cognitive Modeling and Psycholinguistics    0.750000\n",
       "Machine Learning                                                0.808696\n",
       "Machine Translation                                             0.820755\n",
       "Multidisciplinary and Area Chair COI                            0.680000\n",
       "Multilinguality                                                 0.806452\n",
       "Phonology Morphology and Word Segmentation                      0.851852\n",
       "Question Answering                                              0.728395\n",
       "Resources and Evaluation                                        0.732394\n",
       "Sentence-level semantics                                        0.788889\n",
       "Sentiment Analysis and Argument Mining                          0.788235\n",
       "Social Media                                                    0.737705\n",
       "Summarization                                                   0.745098\n",
       "Tagging Chunking Syntax and Parsing                             0.770492\n",
       "Textual Inference and Other Areas of Semantics                  0.771930\n",
       "Vision Robotics Multimodal Grounding and Speech                 0.811321\n",
       "Word-level Semantics                                            0.860759\n",
       "Name: track, dtype: float64"
      ]
     },
     "execution_count": 5,
     "metadata": {},
     "output_type": "execute_result"
    }
   ],
   "source": [
    "df_rebuttal = df[df['had_rebuttal'] == 1]\n",
    "df_rebutal_perc_track = df_rebuttal['track'].value_counts() / df['track'].value_counts()\n",
    "df_rebutal_perc_track"
   ]
  },
  {
   "cell_type": "markdown",
   "metadata": {},
   "source": [
    "- Compare one by one, filtering out the data being compared (?)"
   ]
  },
  {
   "cell_type": "code",
   "execution_count": null,
   "metadata": {},
   "outputs": [],
   "source": []
  },
  {
   "cell_type": "markdown",
   "id": "50275647",
   "metadata": {},
   "source": [
    "## Task 2 (10pts): Prediction\n",
    "\n",
    "You decide to investigate further the effect of rebuttals on acceptance using your machine learning skills."
   ]
  },
  {
   "cell_type": "markdown",
   "id": "578baafa",
   "metadata": {},
   "source": [
    "\n",
    "**2.1** For each possible value in the `track` column, create a new column called {track}-onehot (e.g., for track=Generation, create Generation-onehot). Collectively, these new columns should \"one hot-encode\" the track column---for instance, if for a given paper the `track` column is filled with the value \"Generation\", the Generation-onehot column should equal 1 and all other {track}-onehot columns should equal 0. \n",
    "\n",
    "Print the column names of the resulting dataframe."
   ]
  },
  {
   "cell_type": "code",
   "execution_count": 6,
   "metadata": {},
   "outputs": [],
   "source": [
    "#use one hot encoding to encode the categorical variables found in column track, naming the new columns as <track_name>-onehot\n",
    "df_encoded = pd.get_dummies(df['track'], prefix='', prefix_sep='')\n",
    "\n",
    "# Rename the columns\n",
    "df_encoded.columns = [f\"{col}-onehot\" for col in df_encoded.columns]\n",
    "\n",
    "# Concatenate the original DataFrame with the encoded columns\n",
    "df_one_hot = pd.concat([df, df_encoded], axis=1)"
   ]
  },
  {
   "cell_type": "code",
   "execution_count": 7,
   "metadata": {},
   "outputs": [
    {
     "data": {
      "text/html": [
       "<div>\n",
       "<style scoped>\n",
       "    .dataframe tbody tr th:only-of-type {\n",
       "        vertical-align: middle;\n",
       "    }\n",
       "\n",
       "    .dataframe tbody tr th {\n",
       "        vertical-align: top;\n",
       "    }\n",
       "\n",
       "    .dataframe thead th {\n",
       "        text-align: right;\n",
       "    }\n",
       "</style>\n",
       "<table border=\"1\" class=\"dataframe\">\n",
       "  <thead>\n",
       "    <tr style=\"text-align: right;\">\n",
       "      <th></th>\n",
       "      <th>tmp_id</th>\n",
       "      <th>status</th>\n",
       "      <th>track</th>\n",
       "      <th>scores_before</th>\n",
       "      <th>scores_after</th>\n",
       "      <th>had_rebuttal</th>\n",
       "      <th>overall_score_before_avg</th>\n",
       "      <th>overall_score_before_std</th>\n",
       "      <th>overall_score_after_avg</th>\n",
       "      <th>overall_score_after_std</th>\n",
       "      <th>Dialogue and Interactive Systems-onehot</th>\n",
       "      <th>Discourse and Pragmatics-onehot</th>\n",
       "      <th>Document Analysis-onehot</th>\n",
       "      <th>Generation-onehot</th>\n",
       "      <th>Information Extraction and Text Mining-onehot</th>\n",
       "      <th>Linguistic Theories Cognitive Modeling and Psycholinguistics-onehot</th>\n",
       "      <th>Machine Learning-onehot</th>\n",
       "      <th>Machine Translation-onehot</th>\n",
       "      <th>Multidisciplinary and Area Chair COI-onehot</th>\n",
       "      <th>Multilinguality-onehot</th>\n",
       "      <th>Phonology Morphology and Word Segmentation-onehot</th>\n",
       "      <th>Question Answering-onehot</th>\n",
       "      <th>Resources and Evaluation-onehot</th>\n",
       "      <th>Sentence-level semantics-onehot</th>\n",
       "      <th>Sentiment Analysis and Argument Mining-onehot</th>\n",
       "      <th>Social Media-onehot</th>\n",
       "      <th>Summarization-onehot</th>\n",
       "      <th>Tagging Chunking Syntax and Parsing-onehot</th>\n",
       "      <th>Textual Inference and Other Areas of Semantics-onehot</th>\n",
       "      <th>Vision Robotics Multimodal Grounding and Speech-onehot</th>\n",
       "      <th>Word-level Semantics-onehot</th>\n",
       "    </tr>\n",
       "  </thead>\n",
       "  <tbody>\n",
       "    <tr>\n",
       "      <th>771</th>\n",
       "      <td>P772</td>\n",
       "      <td>Reject</td>\n",
       "      <td>Word-level Semantics</td>\n",
       "      <td>{'1': 4, '3': 4}</td>\n",
       "      <td>{'1': 4, '3': 4}</td>\n",
       "      <td>True</td>\n",
       "      <td>4.0</td>\n",
       "      <td>0.0</td>\n",
       "      <td>4.0</td>\n",
       "      <td>0.0</td>\n",
       "      <td>0</td>\n",
       "      <td>0</td>\n",
       "      <td>0</td>\n",
       "      <td>0</td>\n",
       "      <td>0</td>\n",
       "      <td>0</td>\n",
       "      <td>0</td>\n",
       "      <td>0</td>\n",
       "      <td>0</td>\n",
       "      <td>0</td>\n",
       "      <td>0</td>\n",
       "      <td>0</td>\n",
       "      <td>0</td>\n",
       "      <td>0</td>\n",
       "      <td>0</td>\n",
       "      <td>0</td>\n",
       "      <td>0</td>\n",
       "      <td>0</td>\n",
       "      <td>0</td>\n",
       "      <td>0</td>\n",
       "      <td>1</td>\n",
       "    </tr>\n",
       "    <tr>\n",
       "      <th>498</th>\n",
       "      <td>P499</td>\n",
       "      <td>Reject</td>\n",
       "      <td>Document Analysis</td>\n",
       "      <td>{'1': 1}</td>\n",
       "      <td>{'1': 1}</td>\n",
       "      <td>False</td>\n",
       "      <td>1.0</td>\n",
       "      <td>0.0</td>\n",
       "      <td>1.0</td>\n",
       "      <td>0.0</td>\n",
       "      <td>0</td>\n",
       "      <td>0</td>\n",
       "      <td>1</td>\n",
       "      <td>0</td>\n",
       "      <td>0</td>\n",
       "      <td>0</td>\n",
       "      <td>0</td>\n",
       "      <td>0</td>\n",
       "      <td>0</td>\n",
       "      <td>0</td>\n",
       "      <td>0</td>\n",
       "      <td>0</td>\n",
       "      <td>0</td>\n",
       "      <td>0</td>\n",
       "      <td>0</td>\n",
       "      <td>0</td>\n",
       "      <td>0</td>\n",
       "      <td>0</td>\n",
       "      <td>0</td>\n",
       "      <td>0</td>\n",
       "      <td>0</td>\n",
       "    </tr>\n",
       "  </tbody>\n",
       "</table>\n",
       "</div>"
      ],
      "text/plain": [
       "    tmp_id  status                 track     scores_before      scores_after  \\\n",
       "771   P772  Reject  Word-level Semantics  {'1': 4, '3': 4}  {'1': 4, '3': 4}   \n",
       "498   P499  Reject     Document Analysis          {'1': 1}          {'1': 1}   \n",
       "\n",
       "     had_rebuttal  overall_score_before_avg  overall_score_before_std  \\\n",
       "771          True                       4.0                       0.0   \n",
       "498         False                       1.0                       0.0   \n",
       "\n",
       "     overall_score_after_avg  overall_score_after_std  \\\n",
       "771                      4.0                      0.0   \n",
       "498                      1.0                      0.0   \n",
       "\n",
       "     Dialogue and Interactive Systems-onehot  Discourse and Pragmatics-onehot  \\\n",
       "771                                        0                                0   \n",
       "498                                        0                                0   \n",
       "\n",
       "     Document Analysis-onehot  Generation-onehot  \\\n",
       "771                         0                  0   \n",
       "498                         1                  0   \n",
       "\n",
       "     Information Extraction and Text Mining-onehot  \\\n",
       "771                                              0   \n",
       "498                                              0   \n",
       "\n",
       "     Linguistic Theories Cognitive Modeling and Psycholinguistics-onehot  \\\n",
       "771                                                  0                     \n",
       "498                                                  0                     \n",
       "\n",
       "     Machine Learning-onehot  Machine Translation-onehot  \\\n",
       "771                        0                           0   \n",
       "498                        0                           0   \n",
       "\n",
       "     Multidisciplinary and Area Chair COI-onehot  Multilinguality-onehot  \\\n",
       "771                                            0                       0   \n",
       "498                                            0                       0   \n",
       "\n",
       "     Phonology Morphology and Word Segmentation-onehot  \\\n",
       "771                                                  0   \n",
       "498                                                  0   \n",
       "\n",
       "     Question Answering-onehot  Resources and Evaluation-onehot  \\\n",
       "771                          0                                0   \n",
       "498                          0                                0   \n",
       "\n",
       "     Sentence-level semantics-onehot  \\\n",
       "771                                0   \n",
       "498                                0   \n",
       "\n",
       "     Sentiment Analysis and Argument Mining-onehot  Social Media-onehot  \\\n",
       "771                                              0                    0   \n",
       "498                                              0                    0   \n",
       "\n",
       "     Summarization-onehot  Tagging Chunking Syntax and Parsing-onehot  \\\n",
       "771                     0                                           0   \n",
       "498                     0                                           0   \n",
       "\n",
       "     Textual Inference and Other Areas of Semantics-onehot  \\\n",
       "771                                                  0       \n",
       "498                                                  0       \n",
       "\n",
       "     Vision Robotics Multimodal Grounding and Speech-onehot  \\\n",
       "771                                                  0        \n",
       "498                                                  0        \n",
       "\n",
       "     Word-level Semantics-onehot  \n",
       "771                            1  \n",
       "498                            0  "
      ]
     },
     "execution_count": 7,
     "metadata": {},
     "output_type": "execute_result"
    }
   ],
   "source": [
    "df_one_hot.sample(2)"
   ]
  },
  {
   "cell_type": "markdown",
   "id": "55aa41ea",
   "metadata": {},
   "source": [
    "\n",
    "**2.2** Create a column `had_rebuttal_int`, which equals 1 if the paper had a rebuttal, and 0 otherwise, and a column `accepted_int`, which equals 1 if the paper was accepted, and 0 otherwise. "
   ]
  },
  {
   "cell_type": "code",
   "execution_count": 8,
   "metadata": {},
   "outputs": [
    {
     "data": {
      "text/html": [
       "<div>\n",
       "<style scoped>\n",
       "    .dataframe tbody tr th:only-of-type {\n",
       "        vertical-align: middle;\n",
       "    }\n",
       "\n",
       "    .dataframe tbody tr th {\n",
       "        vertical-align: top;\n",
       "    }\n",
       "\n",
       "    .dataframe thead th {\n",
       "        text-align: right;\n",
       "    }\n",
       "</style>\n",
       "<table border=\"1\" class=\"dataframe\">\n",
       "  <thead>\n",
       "    <tr style=\"text-align: right;\">\n",
       "      <th></th>\n",
       "      <th>tmp_id</th>\n",
       "      <th>status</th>\n",
       "      <th>track</th>\n",
       "      <th>scores_before</th>\n",
       "      <th>scores_after</th>\n",
       "      <th>had_rebuttal</th>\n",
       "      <th>overall_score_before_avg</th>\n",
       "      <th>overall_score_before_std</th>\n",
       "      <th>overall_score_after_avg</th>\n",
       "      <th>overall_score_after_std</th>\n",
       "      <th>Dialogue and Interactive Systems-onehot</th>\n",
       "      <th>Discourse and Pragmatics-onehot</th>\n",
       "      <th>Document Analysis-onehot</th>\n",
       "      <th>Generation-onehot</th>\n",
       "      <th>Information Extraction and Text Mining-onehot</th>\n",
       "      <th>Linguistic Theories Cognitive Modeling and Psycholinguistics-onehot</th>\n",
       "      <th>Machine Learning-onehot</th>\n",
       "      <th>Machine Translation-onehot</th>\n",
       "      <th>Multidisciplinary and Area Chair COI-onehot</th>\n",
       "      <th>Multilinguality-onehot</th>\n",
       "      <th>Phonology Morphology and Word Segmentation-onehot</th>\n",
       "      <th>Question Answering-onehot</th>\n",
       "      <th>Resources and Evaluation-onehot</th>\n",
       "      <th>Sentence-level semantics-onehot</th>\n",
       "      <th>Sentiment Analysis and Argument Mining-onehot</th>\n",
       "      <th>Social Media-onehot</th>\n",
       "      <th>Summarization-onehot</th>\n",
       "      <th>Tagging Chunking Syntax and Parsing-onehot</th>\n",
       "      <th>Textual Inference and Other Areas of Semantics-onehot</th>\n",
       "      <th>Vision Robotics Multimodal Grounding and Speech-onehot</th>\n",
       "      <th>Word-level Semantics-onehot</th>\n",
       "      <th>accepted_int</th>\n",
       "      <th>had_rebuttal_int</th>\n",
       "    </tr>\n",
       "  </thead>\n",
       "  <tbody>\n",
       "    <tr>\n",
       "      <th>933</th>\n",
       "      <td>P934</td>\n",
       "      <td>Accept</td>\n",
       "      <td>Social Media</td>\n",
       "      <td>{'1': 4, '2': 2}</td>\n",
       "      <td>{'1': 4, '2': 4}</td>\n",
       "      <td>True</td>\n",
       "      <td>3.0</td>\n",
       "      <td>1.000000</td>\n",
       "      <td>4.000000</td>\n",
       "      <td>0.000000</td>\n",
       "      <td>0</td>\n",
       "      <td>0</td>\n",
       "      <td>0</td>\n",
       "      <td>0</td>\n",
       "      <td>0</td>\n",
       "      <td>0</td>\n",
       "      <td>0</td>\n",
       "      <td>0</td>\n",
       "      <td>0</td>\n",
       "      <td>0</td>\n",
       "      <td>0</td>\n",
       "      <td>0</td>\n",
       "      <td>0</td>\n",
       "      <td>0</td>\n",
       "      <td>0</td>\n",
       "      <td>1</td>\n",
       "      <td>0</td>\n",
       "      <td>0</td>\n",
       "      <td>0</td>\n",
       "      <td>0</td>\n",
       "      <td>0</td>\n",
       "      <td>1</td>\n",
       "      <td>1</td>\n",
       "    </tr>\n",
       "    <tr>\n",
       "      <th>94</th>\n",
       "      <td>P95</td>\n",
       "      <td>Reject</td>\n",
       "      <td>Vision Robotics Multimodal Grounding and Speech</td>\n",
       "      <td>{'1': 3, '2': 2, '3': 4}</td>\n",
       "      <td>{'1': 3, '2': 2, '3': 3}</td>\n",
       "      <td>True</td>\n",
       "      <td>3.0</td>\n",
       "      <td>0.816497</td>\n",
       "      <td>2.666667</td>\n",
       "      <td>0.471405</td>\n",
       "      <td>0</td>\n",
       "      <td>0</td>\n",
       "      <td>0</td>\n",
       "      <td>0</td>\n",
       "      <td>0</td>\n",
       "      <td>0</td>\n",
       "      <td>0</td>\n",
       "      <td>0</td>\n",
       "      <td>0</td>\n",
       "      <td>0</td>\n",
       "      <td>0</td>\n",
       "      <td>0</td>\n",
       "      <td>0</td>\n",
       "      <td>0</td>\n",
       "      <td>0</td>\n",
       "      <td>0</td>\n",
       "      <td>0</td>\n",
       "      <td>0</td>\n",
       "      <td>0</td>\n",
       "      <td>1</td>\n",
       "      <td>0</td>\n",
       "      <td>0</td>\n",
       "      <td>1</td>\n",
       "    </tr>\n",
       "  </tbody>\n",
       "</table>\n",
       "</div>"
      ],
      "text/plain": [
       "    tmp_id  status                                            track  \\\n",
       "933   P934  Accept                                     Social Media   \n",
       "94     P95  Reject  Vision Robotics Multimodal Grounding and Speech   \n",
       "\n",
       "                scores_before              scores_after  had_rebuttal  \\\n",
       "933          {'1': 4, '2': 2}          {'1': 4, '2': 4}          True   \n",
       "94   {'1': 3, '2': 2, '3': 4}  {'1': 3, '2': 2, '3': 3}          True   \n",
       "\n",
       "     overall_score_before_avg  overall_score_before_std  \\\n",
       "933                       3.0                  1.000000   \n",
       "94                        3.0                  0.816497   \n",
       "\n",
       "     overall_score_after_avg  overall_score_after_std  \\\n",
       "933                 4.000000                 0.000000   \n",
       "94                  2.666667                 0.471405   \n",
       "\n",
       "     Dialogue and Interactive Systems-onehot  Discourse and Pragmatics-onehot  \\\n",
       "933                                        0                                0   \n",
       "94                                         0                                0   \n",
       "\n",
       "     Document Analysis-onehot  Generation-onehot  \\\n",
       "933                         0                  0   \n",
       "94                          0                  0   \n",
       "\n",
       "     Information Extraction and Text Mining-onehot  \\\n",
       "933                                              0   \n",
       "94                                               0   \n",
       "\n",
       "     Linguistic Theories Cognitive Modeling and Psycholinguistics-onehot  \\\n",
       "933                                                  0                     \n",
       "94                                                   0                     \n",
       "\n",
       "     Machine Learning-onehot  Machine Translation-onehot  \\\n",
       "933                        0                           0   \n",
       "94                         0                           0   \n",
       "\n",
       "     Multidisciplinary and Area Chair COI-onehot  Multilinguality-onehot  \\\n",
       "933                                            0                       0   \n",
       "94                                             0                       0   \n",
       "\n",
       "     Phonology Morphology and Word Segmentation-onehot  \\\n",
       "933                                                  0   \n",
       "94                                                   0   \n",
       "\n",
       "     Question Answering-onehot  Resources and Evaluation-onehot  \\\n",
       "933                          0                                0   \n",
       "94                           0                                0   \n",
       "\n",
       "     Sentence-level semantics-onehot  \\\n",
       "933                                0   \n",
       "94                                 0   \n",
       "\n",
       "     Sentiment Analysis and Argument Mining-onehot  Social Media-onehot  \\\n",
       "933                                              0                    1   \n",
       "94                                               0                    0   \n",
       "\n",
       "     Summarization-onehot  Tagging Chunking Syntax and Parsing-onehot  \\\n",
       "933                     0                                           0   \n",
       "94                      0                                           0   \n",
       "\n",
       "     Textual Inference and Other Areas of Semantics-onehot  \\\n",
       "933                                                  0       \n",
       "94                                                   0       \n",
       "\n",
       "     Vision Robotics Multimodal Grounding and Speech-onehot  \\\n",
       "933                                                  0        \n",
       "94                                                   1        \n",
       "\n",
       "     Word-level Semantics-onehot  accepted_int  had_rebuttal_int  \n",
       "933                            0             1                 1  \n",
       "94                             0             0                 1  "
      ]
     },
     "execution_count": 8,
     "metadata": {},
     "output_type": "execute_result"
    }
   ],
   "source": [
    "df_one_hot['accepted_int'] = df_one_hot['status'].apply(lambda x: 1 if x == 'Accept' else 0)\n",
    "df_one_hot['had_rebuttal_int'] = df_one_hot['had_rebuttal'].apply(lambda x: 1 if x == True else 0)\n",
    "df_one_hot.sample(2)"
   ]
  },
  {
   "cell_type": "markdown",
   "id": "c5806400",
   "metadata": {},
   "source": [
    "**2.3** Create a function `numpy_helper(df, cols)` to obtain a numpy.array out of your dataframe. The function should receive a dataframe `df` with N rows and a list of M columns `cols`, and should return a `np.array` of dimension `(NxM)` cast as a float."
   ]
  },
  {
   "cell_type": "code",
   "execution_count": 9,
   "metadata": {},
   "outputs": [],
   "source": [
    "def numpy_helper(df, cols):\n",
    "    # Select the specified columns from the dataframe\n",
    "    selected_df = df[cols]\n",
    "    \n",
    "    # Convert the selected dataframe to a numpy array and cast it as float\n",
    "    numpy_array = selected_df.to_numpy(dtype=float)\n",
    "    \n",
    "    return numpy_array\n"
   ]
  },
  {
   "cell_type": "markdown",
   "id": "85dad455",
   "metadata": {},
   "source": [
    "\n",
    "**2.4**\n",
    "Create:\n",
    "- an array of features X containing all track one-hot features, as well as the `overall_score_before_avg`,`overall_score_before_std`, and `had_rebuttal_int`;\n",
    "- an array of outcomes y containing `accepted_int`. \n",
    "\n",
    "\n",
    "Print the shapes of both X and y (e.g., `X.shape`)."
   ]
  },
  {
   "cell_type": "code",
   "execution_count": 10,
   "metadata": {},
   "outputs": [
    {
     "name": "stdout",
     "output_type": "stream",
     "text": [
      "X shape: (1538, 24)\n",
      "y shape: (1538, 1)\n"
     ]
    }
   ],
   "source": [
    "one_hot_cols = [col for col in df_one_hot.columns if '-onehot' in col]\n",
    "features = ['overall_score_before_avg', 'overall_score_before_std', 'had_rebuttal_int'] + one_hot_cols\n",
    "X = numpy_helper(df_one_hot, features)\n",
    "y = numpy_helper(df_one_hot, ['accepted_int'])\n",
    "print(f\"X shape: {X.shape}\")\n",
    "print(f\"y shape: {y.shape}\")\n"
   ]
  },
  {
   "cell_type": "markdown",
   "id": "efcf79a4",
   "metadata": {},
   "source": [
    "\n",
    "**2.5** Build two `GradientBoostingClassifier` models using `sklearn` using the default parameters:\n",
    "- Model 1: predicts the outcome `accepted_int` using the onehot encoded features related to track, as well as the `overall_score_before_avg`,`overall_score_before_std`.\n",
    "- Model 2:  predicts the outcome `accepted_int` using the onehot encoded features related to track, as well as the `overall_score_before_avg`,`overall_score_before_std` **and** `had_rebuttal_int`.\n",
    "\n",
    "\n",
    "For both models:\n",
    "\n",
    "- Use the `cross_validate` function from `sklearn.model_selection` to compute the average precision, recall, and accuracy across test cross validation splits.\n",
    "\n",
    "    - e.g., `cross_validate(clf, X, y, cv=30, scoring=('accuracy', 'precision', 'recall'))`"
   ]
  },
  {
   "cell_type": "code",
   "execution_count": 11,
   "metadata": {},
   "outputs": [],
   "source": [
    "def grad_boost_clf(df, cols):\n",
    "    X,y = df[cols], df['accepted_int'].ravel()\n",
    "    clf = GradientBoostingClassifier()\n",
    "    return cross_validate(clf, X, y, cv=30, scoring=['accuracy', 'precision', 'recall', 'f1'],return_train_score=True)\n",
    "\n",
    "def print_results(cv_results):\n",
    "    for metric in cv_results.keys():\n",
    "        print(f\"{metric}: {cv_results[metric].mean()} (std: {cv_results[metric].std()})\")"
   ]
  },
  {
   "cell_type": "code",
   "execution_count": 12,
   "metadata": {},
   "outputs": [],
   "source": [
    "one_hot_cols = [col for col in df_one_hot.columns if '-onehot' in col]\n",
    "features_base = ['overall_score_before_avg', 'overall_score_before_std'] + one_hot_cols\n",
    "features_dev = ['had_rebuttal_int'] + features_base\n",
    "\n",
    "cv_results_base = grad_boost_clf(df_one_hot, features_base)\n",
    "cv_results_dev = grad_boost_clf(df_one_hot, features_dev)"
   ]
  },
  {
   "cell_type": "code",
   "execution_count": 13,
   "metadata": {},
   "outputs": [
    {
     "name": "stdout",
     "output_type": "stream",
     "text": [
      "Model 1:\n",
      "fit_time: 0.180503511428833 (std: 0.059925440592484586)\n",
      "score_time: 0.006032721201578776 (std: 0.0023112015408422244)\n",
      "test_accuracy: 0.8373303167420816 (std: 0.040621741013475474)\n",
      "train_accuracy: 0.8675171510350057 (std: 0.00204333241782293)\n",
      "test_precision: 0.7085207385207386 (std: 0.11744279655723296)\n",
      "train_precision: 0.7786651538410765 (std: 0.006514229984411329)\n",
      "test_recall: 0.592948717948718 (std: 0.11531039873360703)\n",
      "train_recall: 0.6461644406724142 (std: 0.012042509585537734)\n",
      "test_f1: 0.6392412910986518 (std: 0.10062207915636157)\n",
      "train_f1: 0.7061567756533975 (std: 0.006449265958890717)\n",
      "\n",
      "Model 2:\n",
      "fit_time: 0.14457887013753254 (std: 0.032938511088940366)\n",
      "score_time: 0.004922342300415039 (std: 0.0007337996980534169)\n",
      "test_accuracy: 0.8386500754147814 (std: 0.03711351720402857)\n",
      "train_accuracy: 0.8679206781790322 (std: 0.002090118772956439)\n",
      "test_precision: 0.7126813001813002 (std: 0.1079234768368986)\n",
      "train_precision: 0.779642822018811 (std: 0.00827298094817993)\n",
      "test_recall: 0.5957264957264959 (std: 0.11259609251512649)\n",
      "train_recall: 0.6470751874848002 (std: 0.011367334085823431)\n",
      "test_f1: 0.6420162864510691 (std: 0.09327558672344727)\n",
      "train_f1: 0.7070929449857767 (std: 0.0058692459025303945)\n"
     ]
    }
   ],
   "source": [
    "print(\"Model 1:\")\n",
    "print_results(cv_results_base)\n",
    "print()\n",
    "print(\"Model 2:\")\n",
    "print_results(cv_results_dev)"
   ]
  },
  {
   "cell_type": "markdown",
   "id": "2abba6d4",
   "metadata": {},
   "source": [
    "\n",
    "**2.6** Determine whether the difference in accuracy of the two models is statistically significant.\n"
   ]
  },
  {
   "cell_type": "code",
   "execution_count": 14,
   "metadata": {},
   "outputs": [
    {
     "name": "stdout",
     "output_type": "stream",
     "text": [
      "Model 1 accuracy:  0.8373303167420816\n",
      "Model 2 accuracy:  0.8386500754147814\n",
      "p-value:  0.897673080747567\n"
     ]
    }
   ],
   "source": [
    "print(\"Model 1 accuracy: \", cv_results_base['test_accuracy'].mean())\n",
    "print(\"Model 2 accuracy: \", cv_results_dev['test_accuracy'].mean())\n",
    "#do t test to see if the difference in accuracy is significant\n",
    "from scipy.stats import ttest_ind\n",
    "coef, p_val = ttest_ind(cv_results_base['test_accuracy'], cv_results_dev['test_accuracy'])\n",
    "print(\"p-value: \", p_val)"
   ]
  },
  {
   "cell_type": "markdown",
   "metadata": {},
   "source": [
    "We can see that the mean of cross vlaidation accuracies are near identical, to prove the resemblance of these numbers, we could conduct a t-test on the accuracy values obtained and find that not only are the means similar, but p-value = 0.89 founding that the null hypothesis (these are identical distributions) holds well."
   ]
  },
  {
   "cell_type": "markdown",
   "id": "9518f2f6",
   "metadata": {},
   "source": [
    "**2.7** **/Discuss:/** Contrast the results obtained in **2.6** with what you observed in **Task 1**. What advantage did the analyses in **2.6** have?"
   ]
  },
  {
   "cell_type": "markdown",
   "metadata": {},
   "source": [
    "- In task one we gained an insight on the correlation between the number of points scored and the ditribution on the possibility of having your paper accepted. However there was a lot of **overlaping** in the graphs. \n",
    "\n",
    "- This time we have the knowledge of the domain in which the paper has been written and can thus add the domain specific information obtained this way. \n",
    "- We see that the fact of having a rebutal or **not doesn't exactly change** the decision accuracy afteer all, proving that is actually **not an important feature** and could be discarded (at least when working with a gradient booster classifier) "
   ]
  },
  {
   "cell_type": "markdown",
   "id": "52beb97e",
   "metadata": {},
   "source": [
    "## Task 3 (12pts): Interlude\n"
   ]
  },
  {
   "cell_type": "markdown",
   "id": "f8f56eca",
   "metadata": {},
   "source": [
    "\n",
    "**3.1** Using the formula API from `statsmodels`, estimate the following linear regressions. Report the summary of the models.\n",
    "- `accepted_int ~ had_rebuttal_int`,  \n",
    "- `accepted_int ~ overall_score_after_avg`\n",
    "- `had_rebuttal_int ~ overall_score_before_avg`"
   ]
  },
  {
   "cell_type": "code",
   "execution_count": 15,
   "metadata": {},
   "outputs": [],
   "source": [
    "# Model 1: accepted_int ~ had_rebuttal_int\n",
    "model_1 = smf.ols('accepted_int ~ had_rebuttal_int', data=df_one_hot)\n",
    "result_1 = model_1.fit()\n",
    "\n",
    "# Model 2: accepted_int ~ overall_score_after_avg\n",
    "model_2 = smf.ols('accepted_int ~ overall_score_after_avg', data=df_one_hot)\n",
    "result_2 = model_2.fit()\n",
    "\n",
    "# Model 3: had_rebuttal_int ~ overall_score_before_avg\n",
    "model_3 = smf.ols('had_rebuttal_int ~ overall_score_before_avg', data=df_one_hot)\n",
    "result_3 = model_3.fit()"
   ]
  },
  {
   "cell_type": "code",
   "execution_count": 16,
   "metadata": {},
   "outputs": [
    {
     "name": "stdout",
     "output_type": "stream",
     "text": [
      "Model 1: accepted_int ~ had_rebuttal_int\n",
      "dependance of acceptance on rebuttal\n",
      "                            OLS Regression Results                            \n",
      "==============================================================================\n",
      "Dep. Variable:           accepted_int   R-squared:                       0.041\n",
      "Model:                            OLS   Adj. R-squared:                  0.041\n",
      "Method:                 Least Squares   F-statistic:                     66.22\n",
      "Date:                Tue, 21 Nov 2023   Prob (F-statistic):           8.24e-16\n",
      "Time:                        21:28:24   Log-Likelihood:                -855.16\n",
      "No. Observations:                1538   AIC:                             1714.\n",
      "Df Residuals:                    1536   BIC:                             1725.\n",
      "Df Model:                           1                                         \n",
      "Covariance Type:            nonrobust                                         \n",
      "====================================================================================\n",
      "                       coef    std err          t      P>|t|      [0.025      0.975]\n",
      "------------------------------------------------------------------------------------\n",
      "Intercept            0.0838      0.023      3.693      0.000       0.039       0.128\n",
      "had_rebuttal_int     0.2098      0.026      8.138      0.000       0.159       0.260\n",
      "==============================================================================\n",
      "Omnibus:                      271.753   Durbin-Watson:                   1.920\n",
      "Prob(Omnibus):                  0.000   Jarque-Bera (JB):              324.377\n",
      "Skew:                           1.075   Prob(JB):                     3.65e-71\n",
      "Kurtosis:                       2.336   Cond. No.                         4.00\n",
      "==============================================================================\n",
      "\n",
      "Notes:\n",
      "[1] Standard Errors assume that the covariance matrix of the errors is correctly specified.\n"
     ]
    }
   ],
   "source": [
    "# Display model summaries\n",
    "print(\"Model 1: accepted_int ~ had_rebuttal_int\")\n",
    "print(\"dependance of acceptance on rebuttal\")\n",
    "print(result_1.summary())\n"
   ]
  },
  {
   "cell_type": "code",
   "execution_count": 17,
   "metadata": {},
   "outputs": [
    {
     "name": "stdout",
     "output_type": "stream",
     "text": [
      "\n",
      "Model 2: accepted_int ~ overall_score_after_avg\n",
      "dependance of acceptance on overall score after rebuttal\n",
      "                            OLS Regression Results                            \n",
      "==============================================================================\n",
      "Dep. Variable:           accepted_int   R-squared:                       0.402\n",
      "Model:                            OLS   Adj. R-squared:                  0.401\n",
      "Method:                 Least Squares   F-statistic:                     1031.\n",
      "Date:                Tue, 21 Nov 2023   Prob (F-statistic):          1.58e-173\n",
      "Time:                        21:28:24   Log-Likelihood:                -492.65\n",
      "No. Observations:                1538   AIC:                             989.3\n",
      "Df Residuals:                    1536   BIC:                             1000.\n",
      "Df Model:                           1                                         \n",
      "Covariance Type:            nonrobust                                         \n",
      "===========================================================================================\n",
      "                              coef    std err          t      P>|t|      [0.025      0.975]\n",
      "-------------------------------------------------------------------------------------------\n",
      "Intercept                  -0.6558      0.029    -22.339      0.000      -0.713      -0.598\n",
      "overall_score_after_avg     0.2860      0.009     32.111      0.000       0.269       0.303\n",
      "==============================================================================\n",
      "Omnibus:                      110.778   Durbin-Watson:                   1.927\n",
      "Prob(Omnibus):                  0.000   Jarque-Bera (JB):               51.680\n",
      "Skew:                           0.256   Prob(JB):                     5.99e-12\n",
      "Kurtosis:                       2.263   Cond. No.                         12.3\n",
      "==============================================================================\n",
      "\n",
      "Notes:\n",
      "[1] Standard Errors assume that the covariance matrix of the errors is correctly specified.\n"
     ]
    }
   ],
   "source": [
    "print(\"\\nModel 2: accepted_int ~ overall_score_after_avg\")\n",
    "print(\"dependance of acceptance on overall score after rebuttal\")\n",
    "print(result_2.summary())"
   ]
  },
  {
   "cell_type": "code",
   "execution_count": 18,
   "metadata": {},
   "outputs": [
    {
     "name": "stdout",
     "output_type": "stream",
     "text": [
      "\n",
      "Model 3: had_rebuttal_int ~ overall_score_before_avg\n",
      "dependance of rebuttal on score before rebuttal\n",
      "                            OLS Regression Results                            \n",
      "==============================================================================\n",
      "Dep. Variable:       had_rebuttal_int   R-squared:                       0.135\n",
      "Model:                            OLS   Adj. R-squared:                  0.135\n",
      "Method:                 Least Squares   F-statistic:                     240.2\n",
      "Date:                Tue, 21 Nov 2023   Prob (F-statistic):           1.89e-50\n",
      "Time:                        21:28:24   Log-Likelihood:                -727.42\n",
      "No. Observations:                1538   AIC:                             1459.\n",
      "Df Residuals:                    1536   BIC:                             1470.\n",
      "Df Model:                           1                                         \n",
      "Covariance Type:            nonrobust                                         \n",
      "============================================================================================\n",
      "                               coef    std err          t      P>|t|      [0.025      0.975]\n",
      "--------------------------------------------------------------------------------------------\n",
      "Intercept                    0.2527      0.035      7.195      0.000       0.184       0.322\n",
      "overall_score_before_avg     0.1651      0.011     15.499      0.000       0.144       0.186\n",
      "==============================================================================\n",
      "Omnibus:                      201.621   Durbin-Watson:                   1.930\n",
      "Prob(Omnibus):                  0.000   Jarque-Bera (JB):              288.526\n",
      "Skew:                          -1.060   Prob(JB):                     2.23e-63\n",
      "Kurtosis:                       2.890   Cond. No.                         12.7\n",
      "==============================================================================\n",
      "\n",
      "Notes:\n",
      "[1] Standard Errors assume that the covariance matrix of the errors is correctly specified.\n"
     ]
    }
   ],
   "source": [
    "print(\"\\nModel 3: had_rebuttal_int ~ overall_score_before_avg\")\n",
    "print(\"dependance of rebuttal on score before rebuttal\")\n",
    "print(result_3.summary())"
   ]
  },
  {
   "cell_type": "markdown",
   "id": "a4bc5e23",
   "metadata": {},
   "source": [
    "\n",
    "**3.2** **/Discuss:/** Interpret the coefficients associated with the binary independent variable in the above models. Note that independent variables are the ones on the right-handside of the equation.\n",
    "\n",
    "- e.g., in `had_rebuttal_int ~ overall_score_before_avg`, `overall_score_before_avg` is the independent variable.\n",
    "\n"
   ]
  },
  {
   "cell_type": "markdown",
   "metadata": {},
   "source": [
    "- Model 1: accepted_int =  0.2098 * had_rebuttal_int + 0.0838\n",
    "- The only model out of the three that uses a binary independant vatiable is the first one. We see in the equation above that the fact of having a rebuttal seems to add on its own a 0.2 = 1/5 chance of having the paper accepted.\n",
    "\n",
    "\n",
    "- Model 3: had_rebuttal_int = 0.1651 * overall_score_before_avg + 0.2527"
   ]
  },
  {
   "cell_type": "markdown",
   "id": "eaba81dc",
   "metadata": {},
   "source": [
    "\n",
    "**3.3** **/Discuss:/** describe three correlations you can draw from the previous analysis. Describe their sign (i.e., whether they are positive or negative), and whether they are statistically significant (at the .05 level of significance).\n"
   ]
  },
  {
   "cell_type": "markdown",
   "metadata": {},
   "source": [
    "- all corelations seem to be positive\n",
    "\n",
    "- in addition to that, the p values of the coeficients apear to be very close to zero, thus indicating that these coeficients are of statistically significant value. \n",
    "\n",
    "- as said in the previous answer, the coeficient of having a rebuttal is 0.2 and the intercept here is 0.08, signifying a measurrable difference, having a rebuttal or not. Yet still having the final value not exeeding 0.3 which indicates a probabilaty of rather not being accepted than accepted. \n",
    "\n",
    "- Model 2: accepted_int = 0.2860 * overall_score_after_avg - 0.6558 \n",
    "for model 2, we see that the intercept term is negative, of -0.65. In the same time, the coef associated with the score obtained is 0.28. Together this would mean that at a score of 5/5 we are yet to reach 1 but find the value of 0.7742. Overall, this shows that even though the acceptance is even more correlated with a high score, there are other factors to count for. \n",
    "\n",
    "- Model 3: had_rebuttal_int = 0.1651 * overall_score_before_avg + 0.2527\n",
    "Finally, in this model, the intercept value of 0.25 indicates that even with a low score,thre is a probabilaty of having a rebuttal. As sujested earlier (in part 1), reebuttals seemed to occur more often together with higher scores and this is exactly the tendancy that's proved by the posititve coeficient of overall_score_before_avg. In the case of a score being equal to 5, we even ecceed the value of 1 for the predicted had_rebuttal_int value. Thus we could be sure that papers with high scores will have a high probabilaty of having a rebuttal.\n"
   ]
  },
  {
   "cell_type": "markdown",
   "id": "fa59821c",
   "metadata": {},
   "source": [
    "**3.4** **/Discuss:/** Is the following statement True or False? Justify. \n",
    "\n",
    "- The variable `overall_score_after_avg` explains more of the variance in `accepted_int` than the variable `overall_score_before_avg` explains of `had_rebuttal_int`.\n"
   ]
  },
  {
   "cell_type": "markdown",
   "metadata": {},
   "source": [
    "- We have that R-squared is the variance caused in the dependant variable by variations in the independant variable. Since both are the same type of independant variable (between 0 and 5), we directly see that `accepted_int` has 0.4 = 40% of variance expressed by `overall_score_after_avg`, while `overall_score_before_avg` has 0.135 = 13.5% ov variance on `had_rebuttal_int`"
   ]
  },
  {
   "cell_type": "markdown",
   "id": "b405fb7f",
   "metadata": {},
   "source": [
    "\n",
    "**3.5** **/Discuss:/** Create a causal diagram relating the following variables:\n",
    "- \"Sa\": `overall_score_after_avg`\n",
    "- \"Sb\": `overall_score_before_avg`\n",
    "- \"Re\": `had_rebuttal_int`\n",
    "- \"Ac\": `accepted_int`\n",
    "- \"Tr\": `track`\n",
    "\n",
    "\n",
    "When unsure about whether a causal relationship exists, include it in the diagram. E.g., include the arrow corresponding to the key questions around this homework, i.e., `had_rebuttal_int`->`accepted_int`, even though you are investigating whether it exists. \n",
    "\n",
    "You may draw your diagram using text, use Sa/Sb/Re/Ac/Tr to represent the names of the variables, and simply indicate the causal links, one per line.\n",
    "\n",
    "\n",
    "Instead of drawing something like this:\n",
    "![](./dagv.jpeg)\n",
    "\n",
    "Simply write:\n",
    "\n",
    "- Tr->Sb\n",
    "- Tr->Ac\n",
    "- Tr->Re\n",
    "- Ac->Sb\n",
    "- Re->Sb\n",
    "- Sb->Sa\n",
    "\n",
    "---"
   ]
  },
  {
   "cell_type": "markdown",
   "metadata": {},
   "source": [
    "- Tr -> Sb\n",
    "- Tr -> Sa\n",
    "- Tr -> Ac\n",
    "\n",
    "- Sb -> Sa\n",
    "- Sb -> Re\n",
    "\n",
    "- Re -> Sa\n",
    "\n",
    "- Sa -> Ac"
   ]
  },
  {
   "cell_type": "markdown",
   "id": "dbe89c00",
   "metadata": {},
   "source": [
    "**3.6** **/Discuss:/** What is the problem of simply comparing the outcomes of papers that had rebuttals with those that did not? Give a concrete example."
   ]
  },
  {
   "cell_type": "code",
   "execution_count": 19,
   "metadata": {},
   "outputs": [
    {
     "name": "stdout",
     "output_type": "stream",
     "text": [
      "the following are percetages of tracks that have a p-value less than 0.05 for different metrics\n"
     ]
    },
    {
     "data": {
      "text/plain": [
       "overall_score_before_avg    0.238095\n",
       "overall_score_after_avg     0.142857\n",
       "overall_score_after_std     0.428571\n",
       "overall_score_before_std    0.190476\n",
       "had_rebuttal_int            0.047619\n",
       "accepted_int                0.000000\n",
       "dtype: float64"
      ]
     },
     "execution_count": 19,
     "metadata": {},
     "output_type": "execute_result"
    }
   ],
   "source": [
    "from scipy import stats\n",
    "\n",
    "cols_to_test = ['overall_score_before_avg', 'overall_score_after_avg','overall_score_after_std','overall_score_before_std' ,'had_rebuttal_int', 'accepted_int']\n",
    "#create a dataframe with row iindicess as track names and columns as the p-values for each column in cols_to_test\n",
    "p_values = pd.DataFrame(index=df_one_hot['track'].unique(), columns=cols_to_test)\n",
    "for col in cols_to_test:\n",
    "    for track in df_one_hot['track'].unique():\n",
    "        test_group = df_one_hot[df_one_hot['track'] == track]\n",
    "        other_group = df_one_hot[df_one_hot['track'] != track]\n",
    "        _,p_value = stats.ttest_ind(test_group[col], other_group[col])\n",
    "        p_values.loc[track, col] = p_value\n",
    "#in each column, count the number of p-values that are less than 0.05\n",
    "p_values = p_values.apply(lambda x: x < 0.05).sum()\n",
    "p_values_percetages = p_values.apply(lambda x: x/len(df_one_hot['track'].unique()))\n",
    "print(\"the following are percetages of tracks that have a p-value less than 0.05 for different metrics\")\n",
    "p_values_percetages"
   ]
  },
  {
   "cell_type": "markdown",
   "metadata": {},
   "source": [
    "Supposing that there is a cofounder represented by the track, we find ourselfs with a rather biased set, where depending on the "
   ]
  },
  {
   "cell_type": "markdown",
   "id": "82ed68a4",
   "metadata": {},
   "source": [
    "# Task 4 (12 pts): Observational study\n",
    "\n",
    "You decide to use your observational study skills to obtain a concrete answer to the question: do rebuttals increase acceptance?\n",
    "\n",
    " **4.1** Perform exact one-to-one matching considering the `overall_score_before_avg` and the `track` variables. Each paper that had a rebuttal (\"treatment group\") should be matched to a paper that did not have a rebuttal (\"control group\"). \n",
    "- Your matching should be optimal, i.e., the maximum amount of papers possible must be matched. \n",
    "- Print the dataframe of papers in the matched sample"
   ]
  },
  {
   "cell_type": "code",
   "execution_count": 23,
   "metadata": {},
   "outputs": [
    {
     "name": "stdout",
     "output_type": "stream",
     "text": [
      "1192\n",
      "0.7750325097529259\n"
     ]
    }
   ],
   "source": [
    "print(df_one_hot['had_rebuttal'].sum())\n",
    "print(df_one_hot['had_rebuttal'].sum()/len(df_one_hot))"
   ]
  },
  {
   "cell_type": "code",
   "execution_count": 28,
   "metadata": {},
   "outputs": [],
   "source": [
    "from sklearn.linear_model import LogisticRegression\n",
    "\n",
    "\n",
    "df = df_one_hot.copy()\n",
    "cols = [col for col in df_one_hot.columns if '-onehot' in col]+ ['overall_score_before_avg']\n",
    "X = df_one_hot[cols]  # Include relevant covariates\n",
    "y = df_one_hot['had_rebuttal_int'] # Outcome variable\n",
    "\n",
    "propensity_model = LogisticRegression()\n",
    "propensity_model.fit(X, y)\n",
    "\n",
    "# Predict propensity scores\n",
    "df['propensity_score'] = propensity_model.predict_proba(X)[:, 1]"
   ]
  },
  {
   "cell_type": "code",
   "execution_count": 29,
   "metadata": {},
   "outputs": [
    {
     "ename": "KeyboardInterrupt",
     "evalue": "",
     "output_type": "error",
     "traceback": [
      "\u001b[0;31m---------------------------------------------------------------------------\u001b[0m",
      "\u001b[0;31mKeyboardInterrupt\u001b[0m                         Traceback (most recent call last)",
      "\u001b[0;32m<ipython-input-29-32e25523cb8c>\u001b[0m in \u001b[0;36m<module>\u001b[0;34m\u001b[0m\n\u001b[1;32m     15\u001b[0m \u001b[0;34m\u001b[0m\u001b[0m\n\u001b[1;32m     16\u001b[0m \u001b[0;31m# Perform matching\u001b[0m\u001b[0;34m\u001b[0m\u001b[0;34m\u001b[0m\u001b[0;34m\u001b[0m\u001b[0m\n\u001b[0;32m---> 17\u001b[0;31m \u001b[0mmatching\u001b[0m \u001b[0;34m=\u001b[0m \u001b[0mnx\u001b[0m\u001b[0;34m.\u001b[0m\u001b[0mmax_weight_matching\u001b[0m\u001b[0;34m(\u001b[0m\u001b[0mG\u001b[0m\u001b[0;34m)\u001b[0m\u001b[0;34m\u001b[0m\u001b[0;34m\u001b[0m\u001b[0m\n\u001b[0m\u001b[1;32m     18\u001b[0m \u001b[0mmatched_df\u001b[0m \u001b[0;34m=\u001b[0m \u001b[0mdf\u001b[0m\u001b[0;34m.\u001b[0m\u001b[0mloc\u001b[0m\u001b[0;34m[\u001b[0m\u001b[0mlist\u001b[0m\u001b[0;34m(\u001b[0m\u001b[0mmatching\u001b[0m\u001b[0;34m.\u001b[0m\u001b[0mkeys\u001b[0m\u001b[0;34m(\u001b[0m\u001b[0;34m)\u001b[0m\u001b[0;34m)\u001b[0m\u001b[0;34m]\u001b[0m\u001b[0;34m\u001b[0m\u001b[0;34m\u001b[0m\u001b[0m\n",
      "\u001b[0;32m/Library/Frameworks/Python.framework/Versions/3.9/lib/python3.9/site-packages/networkx/utils/decorators.py\u001b[0m in \u001b[0;36mfunc\u001b[0;34m(_argmap__wrapper, *args, **kwargs)\u001b[0m\n\u001b[1;32m    764\u001b[0m \u001b[0;34m\u001b[0m\u001b[0m\n\u001b[1;32m    765\u001b[0m         \u001b[0;32mdef\u001b[0m \u001b[0mfunc\u001b[0m\u001b[0;34m(\u001b[0m\u001b[0;34m*\u001b[0m\u001b[0margs\u001b[0m\u001b[0;34m,\u001b[0m \u001b[0m__wrapper\u001b[0m\u001b[0;34m=\u001b[0m\u001b[0;32mNone\u001b[0m\u001b[0;34m,\u001b[0m \u001b[0;34m**\u001b[0m\u001b[0mkwargs\u001b[0m\u001b[0;34m)\u001b[0m\u001b[0;34m:\u001b[0m\u001b[0;34m\u001b[0m\u001b[0;34m\u001b[0m\u001b[0m\n\u001b[0;32m--> 766\u001b[0;31m             \u001b[0;32mreturn\u001b[0m \u001b[0margmap\u001b[0m\u001b[0;34m.\u001b[0m\u001b[0m_lazy_compile\u001b[0m\u001b[0;34m(\u001b[0m\u001b[0m__wrapper\u001b[0m\u001b[0;34m)\u001b[0m\u001b[0;34m(\u001b[0m\u001b[0;34m*\u001b[0m\u001b[0margs\u001b[0m\u001b[0;34m,\u001b[0m \u001b[0;34m**\u001b[0m\u001b[0mkwargs\u001b[0m\u001b[0;34m)\u001b[0m\u001b[0;34m\u001b[0m\u001b[0;34m\u001b[0m\u001b[0m\n\u001b[0m\u001b[1;32m    767\u001b[0m \u001b[0;34m\u001b[0m\u001b[0m\n\u001b[1;32m    768\u001b[0m         \u001b[0;31m# standard function-wrapping stuff\u001b[0m\u001b[0;34m\u001b[0m\u001b[0;34m\u001b[0m\u001b[0;34m\u001b[0m\u001b[0m\n",
      "\u001b[0;32m/Library/Frameworks/Python.framework/Versions/3.9/lib/python3.9/site-packages/networkx/utils/decorators.py\u001b[0m in \u001b[0;36margmap_max_weight_matching_1\u001b[0;34m(G, maxcardinality, weight)\u001b[0m\n\u001b[1;32m      3\u001b[0m \u001b[0;32mimport\u001b[0m \u001b[0mgzip\u001b[0m\u001b[0;34m\u001b[0m\u001b[0;34m\u001b[0m\u001b[0m\n\u001b[1;32m      4\u001b[0m \u001b[0;32mimport\u001b[0m \u001b[0minspect\u001b[0m\u001b[0;34m\u001b[0m\u001b[0;34m\u001b[0m\u001b[0m\n\u001b[0;32m----> 5\u001b[0;31m \u001b[0;32mimport\u001b[0m \u001b[0mitertools\u001b[0m\u001b[0;34m\u001b[0m\u001b[0;34m\u001b[0m\u001b[0m\n\u001b[0m\u001b[1;32m      6\u001b[0m \u001b[0;32mimport\u001b[0m \u001b[0mre\u001b[0m\u001b[0;34m\u001b[0m\u001b[0;34m\u001b[0m\u001b[0m\n\u001b[1;32m      7\u001b[0m \u001b[0;32mfrom\u001b[0m \u001b[0mcollections\u001b[0m \u001b[0;32mimport\u001b[0m \u001b[0mdefaultdict\u001b[0m\u001b[0;34m\u001b[0m\u001b[0;34m\u001b[0m\u001b[0m\n",
      "\u001b[0;32m/Library/Frameworks/Python.framework/Versions/3.9/lib/python3.9/site-packages/networkx/algorithms/matching.py\u001b[0m in \u001b[0;36mmax_weight_matching\u001b[0;34m(G, maxcardinality, weight)\u001b[0m\n\u001b[1;32m    976\u001b[0m                         \u001b[0;31m# keep track of the least-slack non-allowable edge to\u001b[0m\u001b[0;34m\u001b[0m\u001b[0;34m\u001b[0m\u001b[0;34m\u001b[0m\u001b[0m\n\u001b[1;32m    977\u001b[0m                         \u001b[0;31m# a different S-blossom.\u001b[0m\u001b[0;34m\u001b[0m\u001b[0;34m\u001b[0m\u001b[0;34m\u001b[0m\u001b[0m\n\u001b[0;32m--> 978\u001b[0;31m                         \u001b[0;32mif\u001b[0m \u001b[0mbestedge\u001b[0m\u001b[0;34m.\u001b[0m\u001b[0mget\u001b[0m\u001b[0;34m(\u001b[0m\u001b[0mbv\u001b[0m\u001b[0;34m)\u001b[0m \u001b[0;32mis\u001b[0m \u001b[0;32mNone\u001b[0m \u001b[0;32mor\u001b[0m \u001b[0mkslack\u001b[0m \u001b[0;34m<\u001b[0m \u001b[0mslack\u001b[0m\u001b[0;34m(\u001b[0m\u001b[0;34m*\u001b[0m\u001b[0mbestedge\u001b[0m\u001b[0;34m[\u001b[0m\u001b[0mbv\u001b[0m\u001b[0;34m]\u001b[0m\u001b[0;34m)\u001b[0m\u001b[0;34m:\u001b[0m\u001b[0;34m\u001b[0m\u001b[0;34m\u001b[0m\u001b[0m\n\u001b[0m\u001b[1;32m    979\u001b[0m                             \u001b[0mbestedge\u001b[0m\u001b[0;34m[\u001b[0m\u001b[0mbv\u001b[0m\u001b[0;34m]\u001b[0m \u001b[0;34m=\u001b[0m \u001b[0;34m(\u001b[0m\u001b[0mv\u001b[0m\u001b[0;34m,\u001b[0m \u001b[0mw\u001b[0m\u001b[0;34m)\u001b[0m\u001b[0;34m\u001b[0m\u001b[0;34m\u001b[0m\u001b[0m\n\u001b[1;32m    980\u001b[0m                     \u001b[0;32melif\u001b[0m \u001b[0mlabel\u001b[0m\u001b[0;34m.\u001b[0m\u001b[0mget\u001b[0m\u001b[0;34m(\u001b[0m\u001b[0mw\u001b[0m\u001b[0;34m)\u001b[0m \u001b[0;32mis\u001b[0m \u001b[0;32mNone\u001b[0m\u001b[0;34m:\u001b[0m\u001b[0;34m\u001b[0m\u001b[0;34m\u001b[0m\u001b[0m\n",
      "\u001b[0;32m/Library/Frameworks/Python.framework/Versions/3.9/lib/python3.9/site-packages/networkx/algorithms/matching.py\u001b[0m in \u001b[0;36mslack\u001b[0;34m(v, w)\u001b[0m\n\u001b[1;32m    504\u001b[0m     \u001b[0;31m# Return 2 * slack of edge (v, w) (does not work inside blossoms).\u001b[0m\u001b[0;34m\u001b[0m\u001b[0;34m\u001b[0m\u001b[0;34m\u001b[0m\u001b[0m\n\u001b[1;32m    505\u001b[0m     \u001b[0;32mdef\u001b[0m \u001b[0mslack\u001b[0m\u001b[0;34m(\u001b[0m\u001b[0mv\u001b[0m\u001b[0;34m,\u001b[0m \u001b[0mw\u001b[0m\u001b[0;34m)\u001b[0m\u001b[0;34m:\u001b[0m\u001b[0;34m\u001b[0m\u001b[0;34m\u001b[0m\u001b[0m\n\u001b[0;32m--> 506\u001b[0;31m         \u001b[0;32mreturn\u001b[0m \u001b[0mdualvar\u001b[0m\u001b[0;34m[\u001b[0m\u001b[0mv\u001b[0m\u001b[0;34m]\u001b[0m \u001b[0;34m+\u001b[0m \u001b[0mdualvar\u001b[0m\u001b[0;34m[\u001b[0m\u001b[0mw\u001b[0m\u001b[0;34m]\u001b[0m \u001b[0;34m-\u001b[0m \u001b[0;36m2\u001b[0m \u001b[0;34m*\u001b[0m \u001b[0mG\u001b[0m\u001b[0;34m[\u001b[0m\u001b[0mv\u001b[0m\u001b[0;34m]\u001b[0m\u001b[0;34m[\u001b[0m\u001b[0mw\u001b[0m\u001b[0;34m]\u001b[0m\u001b[0;34m.\u001b[0m\u001b[0mget\u001b[0m\u001b[0;34m(\u001b[0m\u001b[0mweight\u001b[0m\u001b[0;34m,\u001b[0m \u001b[0;36m1\u001b[0m\u001b[0;34m)\u001b[0m\u001b[0;34m\u001b[0m\u001b[0;34m\u001b[0m\u001b[0m\n\u001b[0m\u001b[1;32m    507\u001b[0m \u001b[0;34m\u001b[0m\u001b[0m\n\u001b[1;32m    508\u001b[0m     \u001b[0;31m# Assign label t to the top-level blossom containing vertex w,\u001b[0m\u001b[0;34m\u001b[0m\u001b[0;34m\u001b[0m\u001b[0;34m\u001b[0m\u001b[0m\n",
      "\u001b[0;31mKeyboardInterrupt\u001b[0m: "
     ]
    }
   ],
   "source": [
    "import networkx as nx\n",
    "\n",
    "# Create a graph with nodes representing units and edges representing potential matches\n",
    "G = nx.Graph()\n",
    "\n",
    "# Add nodes with propensity scores as attributes\n",
    "for index, row in df.iterrows():\n",
    "    G.add_node(index, propensity_score=row['propensity_score'])\n",
    "\n",
    "# Add edges based on propensity score differences\n",
    "for i in df.index:\n",
    "    for j in df.index:\n",
    "        if i != j:\n",
    "            G.add_edge(i, j, weight=abs(df.loc[i, 'propensity_score'] - df.loc[j, 'propensity_score']))\n",
    "\n",
    "# Perform matching\n",
    "matching = nx.max_weight_matching(G)\n",
    "matched_df = df.loc[list(matching.keys())]"
   ]
  },
  {
   "cell_type": "markdown",
   "id": "c31c97d1",
   "metadata": {},
   "source": [
    "**4.2** So far, we did not consider the `overall_score_before_std` variable. One could argue that the variance in the scores makes a difference. E.g., a paper that received scores 1 and 5, might be very different from a paper with scores 3 and 3. \n",
    "\n",
    "Note that you did not match on the `overall_score_before_std` variable. However, it suffices if this variable is \"balanced\" across treatment and control groups.\n",
    " Use the Standardized Mean Difference (SMD) to assess whether that's the case.\n",
    "\n",
    "- The standardized mean difference for a variable $x$ and two groups $t$ and $c$ is defined as: $\\frac{| E[x_t] - E[x_c] |}{\\sqrt{Var[x_t] + Var[x_c]}}$\n",
    "\n",
    "- Note that a Standardized Mean Difference smaller than 0.1 suggests that variables are balanced across treatment and control groups.\n"
   ]
  },
  {
   "cell_type": "code",
   "execution_count": null,
   "metadata": {},
   "outputs": [],
   "source": [
    "# claculate the expected value of score_before_avg for elements with had_rebuttal = 1 and had_rebuttal = 0\n",
    "e_reb = matched_df[matched_df['had_rebuttal'] == 1]['overall_score_before_avg'].mean()\n",
    "e_no_reb = matched_df[matched_df['had_rebuttal'] == 0]['overall_score_before_avg'].mean()\n",
    "var_reb = matched_df[matched_df['had_rebuttal'] == 1]['overall_score_before_avg'].var()\n",
    "var_no_reb = matched_df[matched_df['had_rebuttal'] == 0]['overall_score_before_avg'].var()\n",
    "smd = np.abs(e_reb - e_no_reb) / np.sqrt(var_reb + var_no_reb)"
   ]
  },
  {
   "cell_type": "markdown",
   "id": "042f788c",
   "metadata": {},
   "source": [
    "\n",
    "**4.3** Using the matched sample, estimate the following linear regression: `accepted ~ had_rebuttal_int`.\n"
   ]
  },
  {
   "cell_type": "code",
   "execution_count": null,
   "metadata": {},
   "outputs": [],
   "source": [
    "# Model : accepted_int ~ had_rebuttal_int tested on the matched data\n",
    "model = smf.ols('accepted_int ~ had_rebuttal_int', data=matched_df)\n",
    "result = model.fit()\n",
    "print(result.summary())"
   ]
  },
  {
   "cell_type": "markdown",
   "id": "21c8423e",
   "metadata": {},
   "source": [
    "\n",
    "**4.4** **/Discuss:/**\n",
    "\n",
    "i. Considering your results obtained in 4.3, and the causal diagram drawn in Task 3: do rebuttals increase the chance of a paper getting accepted? Why are results different from what you obtained in **Task 1?**\n",
    "\n",
    "ii. Why is there no need to include other covariates (e.g., score before) in the regression?"
   ]
  },
  {
   "cell_type": "markdown",
   "id": "e4867ea1",
   "metadata": {},
   "source": [
    "**4.5** **/Discuss:/** Imagine there is another, unobserved variable \"quality\" which captures the true quality of the paper. Suppose quality (\"Qu\") is connected to the DAG you drew in the following ways:\n",
    "- Qu -> Sa\n",
    "- Qu -> Sb\n",
    "- Qu -> Re\n",
    "- Qu -> Ac\n",
    "Assume that\n",
    "- quality can only increase the chances of rebuttals;\n",
    "- quality and the rebuttal can only increase the chance of a paper being accepted.\n",
    "Does this uncontrolled confounder threaten the validity of your findings?\n"
   ]
  }
 ],
 "metadata": {
  "kernelspec": {
   "display_name": "Python 3 (ipykernel)",
   "language": "python",
   "name": "python3"
  },
  "language_info": {
   "codemirror_mode": {
    "name": "ipython",
    "version": 3
   },
   "file_extension": ".py",
   "mimetype": "text/x-python",
   "name": "python",
   "nbconvert_exporter": "python",
   "pygments_lexer": "ipython3",
   "version": "3.9.2"
  }
 },
 "nbformat": 4,
 "nbformat_minor": 5
}
